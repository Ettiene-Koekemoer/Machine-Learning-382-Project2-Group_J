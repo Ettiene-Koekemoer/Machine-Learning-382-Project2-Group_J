{
 "cells": [
  {
   "cell_type": "markdown",
   "metadata": {},
   "source": [
    "Website Application"
   ]
  },
  {
   "cell_type": "code",
   "execution_count": 1,
   "metadata": {},
   "outputs": [
    {
     "name": "stderr",
     "output_type": "stream",
     "text": [
      "C:\\Users\\micha\\AppData\\Local\\Temp\\ipykernel_27432\\131023205.py:2: UserWarning: \n",
      "The dash_core_components package is deprecated. Please replace\n",
      "`import dash_core_components as dcc` with `from dash import dcc`\n",
      "  import dash_core_components as dcc\n",
      "C:\\Users\\micha\\AppData\\Local\\Temp\\ipykernel_27432\\131023205.py:3: UserWarning: \n",
      "The dash_html_components package is deprecated. Please replace\n",
      "`import dash_html_components as html` with `from dash import html`\n",
      "  import dash_html_components as html\n"
     ]
    },
    {
     "data": {
      "text/html": [
       "\n",
       "        <iframe\n",
       "            width=\"100%\"\n",
       "            height=\"650\"\n",
       "            src=\"http://127.0.0.1:8050/\"\n",
       "            frameborder=\"0\"\n",
       "            allowfullscreen\n",
       "            \n",
       "        ></iframe>\n",
       "        "
      ],
      "text/plain": [
       "<IPython.lib.display.IFrame at 0x1d1d04fd610>"
      ]
     },
     "metadata": {},
     "output_type": "display_data"
    },
    {
     "ename": "",
     "evalue": "",
     "output_type": "error",
     "traceback": [
      "\u001b[1;31mThe Kernel crashed while executing code in the current cell or a previous cell. \n",
      "\u001b[1;31mPlease review the code in the cell(s) to identify a possible cause of the failure. \n",
      "\u001b[1;31mClick <a href='https://aka.ms/vscodeJupyterKernelCrash'>here</a> for more info. \n",
      "\u001b[1;31mView Jupyter <a href='command:jupyter.viewOutput'>log</a> for further details."
     ]
    }
   ],
   "source": [
    "import dash\n",
    "import dash_core_components as dcc\n",
    "import dash_html_components as html\n",
    "from dash.dependencies import Input, Output\n",
    "import pandas as pd\n",
    "import pickle\n",
    "from prepare_data import make_predictions\n",
    "\n",
    "# Load the model\n",
    "#with open('./artifacts/model_2.pkl', 'rb') as f:\n",
    "    #model = pickle.load(f)\n",
    "\n",
    "#Initialise the Dash App\n",
    "app = dash.Dash(__name__)\n",
    "server = app.server\n",
    "\n",
    "#Define App Layout\n",
    "app.layout = html.Div([\n",
    "    html.H1(\"Churn Eligibility Predictor\"),\n",
    "    html.Label(\"CustomerID:\"),\n",
    "    dcc.Input(id='CustomerID', type='number', value=0),\n",
    "    html.Label(\"Gender:\"),\n",
    "    dcc.Dropdown(\n",
    "        ['Male','Female'],\n",
    "        'Male',\n",
    "        id='Gender'\n",
    "    ),\n",
    "    html.Label(\"Age:\"),\n",
    "    dcc.Slider(0, 100, 1, marks=None, value=20, id='Age'),\n",
    "    html.Label(\"Income:\"),\n",
    "    dcc.Slider(0, 100000, 1000, marks=None, value=10000, id='Income'),\n",
    "    html.Label(\"TotalPurchase:\"),\n",
    "    dcc.Slider(0, 100000, 100, marks=None, value=1000, id='TotalPurchase'),\n",
    "    html.Label(\"NumOfPurchases:\"),\n",
    "    dcc.Input(id='NumOfPurchases', type='number', value=0),\n",
    "    html.Label(\"Location:\"),\n",
    "    dcc.Dropdown(\n",
    "        ['Urban','Suburban','Rural'], \n",
    "        'Urban',\n",
    "        id='Location'\n",
    "    ),\n",
    "    html.Label(\"MaritalStatus:\"),\n",
    "    dcc.Dropdown(\n",
    "        ['Married','Single'],\n",
    "        'Married',\n",
    "        id='MaritalStatus'\n",
    "    ),\n",
    "    html.Label(\"Education:\"),\n",
    "    dcc.Dropdown(\n",
    "        ['High School',\"Bachelor's\",\"Master's\",'PhD'],\n",
    "        'High School',\n",
    "        id='Education'\n",
    "    ),\n",
    "    html.Label(\"Subscription Plan:\"),\n",
    "    dcc.Dropdown(\n",
    "        ['Gold','Bronze','Silver'],\n",
    "        'Bronze',\n",
    "        id='SubscriptionPlan'\n",
    "    ),\n",
    "    html.Button('Check Eligibility', id='submit-val', n_clicks=0),\n",
    "    html.Div(id='output')\n",
    "])\n",
    "# Define Callback Function for Predictions\n",
    "@app.callback(\n",
    "    Output('output', 'children'),\n",
    "    Input('submit-val', 'n_clicks'),\n",
    "    Input('CustomerID','value'),\n",
    "    Input('Gender', 'value'),\n",
    "    Input('Age', 'value'),\n",
    "    Input('Income', 'value'),\n",
    "    Input('TotalPurchase', 'value'),\n",
    "    Input('NumOfPurchases', 'value'),\n",
    "    Input('Location', 'value'),\n",
    "    Input('MaritalStatus', 'value'),\n",
    "    Input('Education', 'value'),\n",
    "    Input('SubscriptionPlan', 'value')\n",
    ")\n",
    "def update_output(n_clicks, CustomerID, Gender, Age, Income, TotalPurchase, NumOfPurchases,\n",
    "                    Location, MaritalStatus, Education, SubscriptionPlan):\n",
    "    if n_clicks > 0:\n",
    "        # Prepare input data for prediction\n",
    "        input_data = pd.DataFrame({\n",
    "            'CustomerID': [CustomerID],\n",
    "            'Gender': [Gender],\n",
    "            'Age': [Age],\n",
    "            'Income': [Income],\n",
    "            'TotalPurchase': [TotalPurchase],\n",
    "            'NumOfPurchases': [NumOfPurchases],\n",
    "            'Location': [Location],\n",
    "            'MaritalStatus': [MaritalStatus],\n",
    "            'Education': [Education],\n",
    "            'SubscriptionPlan': [SubscriptionPlan]\n",
    "        })\n",
    "        # One-hot encode categorical variables\n",
    "        #input_data = pd.get_dummies(input_data)\n",
    "        #prepare the input dataframe\n",
    "        #input_data = prepare_data(input_data)\n",
    "        # Make predictions\n",
    "        prediction = make_predictions(input_data)\n",
    "        if prediction[0] == 1:\n",
    "            return 'Churn Approved'#, style={'color': 'green'})\n",
    "        else:\n",
    "            return 'Churn Rejected'#, style={'color': 'red'})\n",
    "#Run the App\n",
    "if __name__ == '__main__':\n",
    "    app.run_server(debug=True)\n"
   ]
  }
 ],
 "metadata": {
  "kernelspec": {
   "display_name": "Python 3",
   "language": "python",
   "name": "python3"
  },
  "language_info": {
   "codemirror_mode": {
    "name": "ipython",
    "version": 3
   },
   "file_extension": ".py",
   "mimetype": "text/x-python",
   "name": "python",
   "nbconvert_exporter": "python",
   "pygments_lexer": "ipython3",
   "version": "3.11.9"
  }
 },
 "nbformat": 4,
 "nbformat_minor": 2
}
